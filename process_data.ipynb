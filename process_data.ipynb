{
 "cells": [
  {
   "cell_type": "code",
   "execution_count": 60,
   "metadata": {},
   "outputs": [],
   "source": [
    "import os\n",
    "from dotenv import load_dotenv\n",
    "from transformers import AutoTokenizer\n",
    "\n",
    "load_dotenv()\n",
    "\n",
    "HF_TOKEN = os.getenv(\"HF_TOKEN\")\n",
    "tokenizer = AutoTokenizer.from_pretrained(\"babylm-seqlen/tokenizer\")\n"
   ]
  },
  {
   "cell_type": "markdown",
   "metadata": {},
   "source": [
    "### Creating Raw Dataset"
   ]
  },
  {
   "cell_type": "code",
   "execution_count": 2,
   "metadata": {},
   "outputs": [],
   "source": [
    "def tokenize_and_chunk(examples, seq_len):\n",
    "    \"\"\"\n",
    "    Tokenizes and chunks text data to fixed-length sequences.\n",
    "    \n",
    "    Args:\n",
    "        examples: A batch of text examples from the dataset\n",
    "        seq_len: The length of the sequences to chunk the text into\n",
    "        \n",
    "    Returns:\n",
    "        Dictionary containing chunked token sequences of length SEQ_LEN\n",
    "    \"\"\"\n",
    "    tokens = []\n",
    "    # Process each text example in the batch\n",
    "    for text in examples['text']:\n",
    "        # Convert text to token IDs\n",
    "        _tokens = tokenizer.encode(text)\n",
    "        # Add EOS token to mark the end of each text example\n",
    "        _tokens.append(tokenizer.eos_token_id)\n",
    "        # Accumulate all tokens in a flat list\n",
    "        tokens.extend(_tokens)\n",
    "\n",
    "    # Split the accumulated tokens into chunks of SEQ_LEN\n",
    "    chunks = [tokens[i:i + seq_len] for i in range(0, len(tokens), seq_len)]\n",
    "    \n",
    "    # Discard the last chunk if it's shorter than SEQ_LEN to ensure uniform sequence length\n",
    "    if len(chunks[-1]) < seq_len:\n",
    "        chunks = chunks[:-1]\n",
    "        \n",
    "    return {'input_ids': chunks}"
   ]
  },
  {
   "cell_type": "code",
   "execution_count": 22,
   "metadata": {},
   "outputs": [],
   "source": [
    "from datasets import Dataset"
   ]
  },
  {
   "cell_type": "code",
   "execution_count": 40,
   "metadata": {},
   "outputs": [
    {
     "name": "stdout",
     "output_type": "stream",
     "text": [
      "Processing file:  simple_wiki.train\n"
     ]
    },
    {
     "name": "stdout",
     "output_type": "stream",
     "text": [
      "Processing file:  bnc_spoken.train\n",
      "Processing file:  childes.train\n",
      "Processing file:  open_subtitles.train\n",
      "Processing file:  switchboard.train\n",
      "Processing file:  gutenberg.train\n"
     ]
    }
   ],
   "source": [
    "import os\n",
    "data_root_path = 'data/raw/train_100M'\n",
    "\n",
    "raw_data_list= []\n",
    "\n",
    "def raw_data_iterator(data_root_path):\n",
    "    for file in os.listdir(data_root_path):\n",
    "        print(\"Processing file: \", file)\n",
    "        with open(os.path.join(data_root_path, file), 'r') as f:\n",
    "            document = []\n",
    "            for line in f:\n",
    "                if line == '\\n':\n",
    "                    raw_data_list.append({'text': ' '.join(document)})\n",
    "                    document = []\n",
    "                else:\n",
    "                    document.append(line)\n",
    "\n",
    "data_iterator = raw_data_iterator(data_root_path)"
   ]
  },
  {
   "cell_type": "code",
   "execution_count": 51,
   "metadata": {},
   "outputs": [],
   "source": [
    "raw_dataset = Dataset.from_list(raw_data_list)\n",
    "raw_dataset = raw_dataset.shuffle(seed=420)"
   ]
  },
  {
   "cell_type": "code",
   "execution_count": 57,
   "metadata": {},
   "outputs": [],
   "source": [
    "from huggingface_hub import HfApi\n",
    "api = HfApi()"
   ]
  },
  {
   "cell_type": "code",
   "execution_count": null,
   "metadata": {},
   "outputs": [],
   "source": [
    "from functools import partial"
   ]
  },
  {
   "cell_type": "markdown",
   "metadata": {},
   "source": [
    "### Seq Len - 64 Dataset"
   ]
  },
  {
   "cell_type": "code",
   "execution_count": 54,
   "metadata": {},
   "outputs": [
    {
     "name": "stderr",
     "output_type": "stream",
     "text": [
      "Map (num_proc=8): 100%|██████████| 131035/131035 [02:09<00:00, 1011.15 examples/s]\n"
     ]
    }
   ],
   "source": [
    "\n",
    "tokenize_and_chunk_64 = partial(tokenize_and_chunk, seq_len=64)\n",
    "\n",
    "tokenized_dataset_64 = raw_dataset.map(\n",
    "    tokenize_and_chunk_64,\n",
    "    batched=True,\n",
    "    batch_size=500,\n",
    "    num_proc=8,\n",
    "    remove_columns=raw_dataset.column_names\n",
    ")\n",
    "tokenized_dataset_64 = tokenized_dataset_64.shuffle(seed=42)"
   ]
  },
  {
   "cell_type": "code",
   "execution_count": null,
   "metadata": {},
   "outputs": [],
   "source": [
    "tokenized_dataset_64.to_parquet('data/processed/train_100M_64.parquet')"
   ]
  },
  {
   "cell_type": "code",
   "execution_count": 63,
   "metadata": {},
   "outputs": [
    {
     "name": "stderr",
     "output_type": "stream",
     "text": [
      "train_100M_64.parquet: 100%|██████████| 328M/328M [00:09<00:00, 32.9MB/s] \n"
     ]
    },
    {
     "data": {
      "text/plain": [
       "CommitInfo(commit_url='https://huggingface.co/datasets/babylm-seqlen/train_100M_64/commit/0b426d8d2341f6a4cc4237806ede056a5b3522fc', commit_message='Upload train_100M_64.parquet with huggingface_hub', commit_description='', oid='0b426d8d2341f6a4cc4237806ede056a5b3522fc', pr_url=None, repo_url=RepoUrl('https://huggingface.co/datasets/babylm-seqlen/train_100M_64', endpoint='https://huggingface.co', repo_type='dataset', repo_id='babylm-seqlen/train_100M_64'), pr_revision=None, pr_num=None)"
      ]
     },
     "execution_count": 63,
     "metadata": {},
     "output_type": "execute_result"
    }
   ],
   "source": [
    "api.create_repo(\"babylm-seqlen/train_100M_64\", private=True, exist_ok=True, token=HF_TOKEN, repo_type=\"dataset\")\n",
    "\n",
    "api.upload_file(\n",
    "    path_or_fileobj='data/processed/train_100M_64.parquet',\n",
    "    repo_id='babylm-seqlen/train_100M_64',\n",
    "    repo_type='dataset',\n",
    "    path_in_repo='train_100M_64.parquet',\n",
    "    token=HF_TOKEN\n",
    ")"
   ]
  },
  {
   "cell_type": "markdown",
   "metadata": {},
   "source": [
    "### Seq Len - 128 Dataset"
   ]
  },
  {
   "cell_type": "code",
   "execution_count": 87,
   "metadata": {},
   "outputs": [
    {
     "name": "stderr",
     "output_type": "stream",
     "text": [
      "Map (num_proc=8): 100%|██████████| 131035/131035 [02:07<00:00, 1030.98 examples/s]\n"
     ]
    }
   ],
   "source": [
    "tokenize_and_chunk_128 = partial(tokenize_and_chunk, seq_len=128)\n",
    "\n",
    "tokenized_dataset_128 = raw_dataset.map(\n",
    "    tokenize_and_chunk_128,\n",
    "    batched=True,\n",
    "    batch_size=500,\n",
    "    num_proc=8,\n",
    "    remove_columns=raw_dataset.column_names\n",
    ")\n",
    "tokenized_dataset_128 = tokenized_dataset_128.shuffle(seed=42)"
   ]
  },
  {
   "cell_type": "code",
   "execution_count": 88,
   "metadata": {},
   "outputs": [
    {
     "name": "stderr",
     "output_type": "stream",
     "text": [
      "Creating parquet from Arrow format: 100%|██████████| 1279/1279 [00:22<00:00, 56.42ba/s]\n"
     ]
    },
    {
     "data": {
      "text/plain": [
       "659515080"
      ]
     },
     "execution_count": 88,
     "metadata": {},
     "output_type": "execute_result"
    }
   ],
   "source": [
    "tokenized_dataset_128.to_parquet('data/processed/train_100M_128.parquet')"
   ]
  },
  {
   "cell_type": "code",
   "execution_count": 89,
   "metadata": {},
   "outputs": [
    {
     "name": "stderr",
     "output_type": "stream",
     "text": [
      "train_100M_128.parquet: 100%|██████████| 307M/307M [00:07<00:00, 40.9MB/s] \n"
     ]
    },
    {
     "data": {
      "text/plain": [
       "CommitInfo(commit_url='https://huggingface.co/datasets/babylm-seqlen/train_100M_128/commit/3aa00e5b28b6e91fd357e44d00afef6beeae7d88', commit_message='Upload train_100M_128.parquet with huggingface_hub', commit_description='', oid='3aa00e5b28b6e91fd357e44d00afef6beeae7d88', pr_url=None, repo_url=RepoUrl('https://huggingface.co/datasets/babylm-seqlen/train_100M_128', endpoint='https://huggingface.co', repo_type='dataset', repo_id='babylm-seqlen/train_100M_128'), pr_revision=None, pr_num=None)"
      ]
     },
     "execution_count": 89,
     "metadata": {},
     "output_type": "execute_result"
    }
   ],
   "source": [
    "api.create_repo(\"babylm-seqlen/train_100M_128\", private=True, exist_ok=True, token=HF_TOKEN, repo_type=\"dataset\")\n",
    "\n",
    "api.upload_file(\n",
    "    path_or_fileobj='data/processed/train_100M_128.parquet',\n",
    "    repo_id='babylm-seqlen/train_100M_128',\n",
    "    repo_type='dataset',\n",
    "    path_in_repo='train_100M_128.parquet',\n",
    "    token=HF_TOKEN\n",
    ")"
   ]
  },
  {
   "cell_type": "markdown",
   "metadata": {},
   "source": [
    "### Seq Len - 256 Dataset"
   ]
  },
  {
   "cell_type": "code",
   "execution_count": 65,
   "metadata": {},
   "outputs": [
    {
     "name": "stderr",
     "output_type": "stream",
     "text": [
      "Map (num_proc=8): 100%|██████████| 131035/131035 [02:06<00:00, 1032.04 examples/s]\n"
     ]
    }
   ],
   "source": [
    "tokenize_and_chunk_256 = partial(tokenize_and_chunk, seq_len=256)\n",
    "\n",
    "tokenized_dataset_256 = raw_dataset.map(\n",
    "    tokenize_and_chunk_256,\n",
    "    batched=True,\n",
    "    batch_size=500,\n",
    "    num_proc=8,\n",
    "    remove_columns=raw_dataset.column_names\n",
    ")\n",
    "tokenized_dataset_256 = tokenized_dataset_256.shuffle(seed=42)"
   ]
  },
  {
   "cell_type": "code",
   "execution_count": 66,
   "metadata": {},
   "outputs": [
    {
     "name": "stderr",
     "output_type": "stream",
     "text": [
      "Creating parquet from Arrow format: 100%|██████████| 640/640 [00:15<00:00, 42.63ba/s]\n"
     ]
    },
    {
     "data": {
      "text/plain": [
       "656894056"
      ]
     },
     "execution_count": 66,
     "metadata": {},
     "output_type": "execute_result"
    }
   ],
   "source": [
    "tokenized_dataset_256.to_parquet('data/processed/train_100M_256.parquet')"
   ]
  },
  {
   "cell_type": "code",
   "execution_count": 67,
   "metadata": {},
   "outputs": [
    {
     "name": "stderr",
     "output_type": "stream",
     "text": [
      "train_100M_256.parquet: 100%|██████████| 287M/287M [00:09<00:00, 30.8MB/s] \n"
     ]
    },
    {
     "data": {
      "text/plain": [
       "CommitInfo(commit_url='https://huggingface.co/datasets/babylm-seqlen/train_100M_256/commit/d2719101569f761b53b402dbe1e3b86afb8d69e4', commit_message='Upload train_100M_256.parquet with huggingface_hub', commit_description='', oid='d2719101569f761b53b402dbe1e3b86afb8d69e4', pr_url=None, repo_url=RepoUrl('https://huggingface.co/datasets/babylm-seqlen/train_100M_256', endpoint='https://huggingface.co', repo_type='dataset', repo_id='babylm-seqlen/train_100M_256'), pr_revision=None, pr_num=None)"
      ]
     },
     "execution_count": 67,
     "metadata": {},
     "output_type": "execute_result"
    }
   ],
   "source": [
    "api.create_repo(\"babylm-seqlen/train_100M_256\", private=True, exist_ok=True, token=HF_TOKEN, repo_type=\"dataset\")\n",
    "\n",
    "api.upload_file(\n",
    "    path_or_fileobj='data/processed/train_100M_256.parquet',\n",
    "    repo_id='babylm-seqlen/train_100M_256',\n",
    "    repo_type='dataset',\n",
    "    path_in_repo='train_100M_256.parquet',\n",
    "    token=HF_TOKEN\n",
    ")"
   ]
  },
  {
   "cell_type": "markdown",
   "metadata": {},
   "source": [
    "### Seq Len - 512 Dataset"
   ]
  },
  {
   "cell_type": "code",
   "execution_count": 84,
   "metadata": {},
   "outputs": [
    {
     "name": "stderr",
     "output_type": "stream",
     "text": [
      "Map (num_proc=8): 100%|██████████| 131035/131035 [02:07<00:00, 1030.75 examples/s]\n"
     ]
    }
   ],
   "source": [
    "tokenize_and_chunk_512 = partial(tokenize_and_chunk, seq_len=512)\n",
    "\n",
    "tokenized_dataset_512 = raw_dataset.map(\n",
    "    tokenize_and_chunk_512,\n",
    "    batched=True,\n",
    "    batch_size=500,\n",
    "    num_proc=8,\n",
    "    remove_columns=raw_dataset.column_names\n",
    ")\n",
    "tokenized_dataset_512 = tokenized_dataset_512.shuffle(seed=42)"
   ]
  },
  {
   "cell_type": "code",
   "execution_count": 85,
   "metadata": {},
   "outputs": [
    {
     "name": "stderr",
     "output_type": "stream",
     "text": [
      "Creating parquet from Arrow format: 100%|██████████| 320/320 [00:10<00:00, 31.05ba/s]\n"
     ]
    },
    {
     "data": {
      "text/plain": [
       "655480620"
      ]
     },
     "execution_count": 85,
     "metadata": {},
     "output_type": "execute_result"
    }
   ],
   "source": [
    "tokenized_dataset_512.to_parquet('data/processed/train_100M_512.parquet')"
   ]
  },
  {
   "cell_type": "code",
   "execution_count": 86,
   "metadata": {},
   "outputs": [
    {
     "name": "stderr",
     "output_type": "stream",
     "text": [
      "train_100M_512.parquet: 100%|██████████| 272M/272M [00:15<00:00, 17.9MB/s] \n"
     ]
    },
    {
     "data": {
      "text/plain": [
       "CommitInfo(commit_url='https://huggingface.co/datasets/babylm-seqlen/train_100M_512/commit/a1f77804849b6676d5a93c57053fc94f2f45a6a1', commit_message='Upload train_100M_512.parquet with huggingface_hub', commit_description='', oid='a1f77804849b6676d5a93c57053fc94f2f45a6a1', pr_url=None, repo_url=RepoUrl('https://huggingface.co/datasets/babylm-seqlen/train_100M_512', endpoint='https://huggingface.co', repo_type='dataset', repo_id='babylm-seqlen/train_100M_512'), pr_revision=None, pr_num=None)"
      ]
     },
     "execution_count": 86,
     "metadata": {},
     "output_type": "execute_result"
    }
   ],
   "source": [
    "api.create_repo(\"babylm-seqlen/train_100M_512\", private=True, exist_ok=True, token=HF_TOKEN, repo_type=\"dataset\")\n",
    "\n",
    "api.upload_file(\n",
    "    path_or_fileobj='data/processed/train_100M_512.parquet',\n",
    "    repo_id='babylm-seqlen/train_100M_512',\n",
    "    repo_type='dataset',\n",
    "    path_in_repo='train_100M_512.parquet', \n",
    "    token=HF_TOKEN\n",
    ")"
   ]
  },
  {
   "cell_type": "markdown",
   "metadata": {},
   "source": [
    "### Seq Len - 1024 Dataset"
   ]
  },
  {
   "cell_type": "code",
   "execution_count": 68,
   "metadata": {},
   "outputs": [
    {
     "name": "stderr",
     "output_type": "stream",
     "text": [
      "Map (num_proc=8): 100%|██████████| 131035/131035 [02:06<00:00, 1036.57 examples/s]\n"
     ]
    }
   ],
   "source": [
    "tokenize_and_chunk_1024 = partial(tokenize_and_chunk, seq_len=1024)\n",
    "\n",
    "tokenized_dataset_1024 = raw_dataset.map(\n",
    "    tokenize_and_chunk_1024,\n",
    "    batched=True,\n",
    "    batch_size=500,\n",
    "    num_proc=8,\n",
    "    remove_columns=raw_dataset.column_names\n",
    ")\n",
    "tokenized_dataset_1024 = tokenized_dataset_1024.shuffle(seed=42)"
   ]
  },
  {
   "cell_type": "code",
   "execution_count": 69,
   "metadata": {},
   "outputs": [
    {
     "name": "stderr",
     "output_type": "stream",
     "text": [
      "Creating parquet from Arrow format: 100%|██████████| 160/160 [00:08<00:00, 19.60ba/s]\n"
     ]
    },
    {
     "data": {
      "text/plain": [
       "654589600"
      ]
     },
     "execution_count": 69,
     "metadata": {},
     "output_type": "execute_result"
    }
   ],
   "source": [
    "tokenized_dataset_1024.to_parquet('data/processed/train_100M_1024.parquet')"
   ]
  },
  {
   "cell_type": "code",
   "execution_count": 70,
   "metadata": {},
   "outputs": [
    {
     "name": "stderr",
     "output_type": "stream",
     "text": [
      "train_100M_1024.parquet: 100%|██████████| 262M/262M [00:07<00:00, 36.9MB/s] \n"
     ]
    },
    {
     "data": {
      "text/plain": [
       "CommitInfo(commit_url='https://huggingface.co/datasets/babylm-seqlen/train_100M_1024/commit/0680905b063dd89f77005aa4acb7582d92694a6e', commit_message='Upload train_100M_1024.parquet with huggingface_hub', commit_description='', oid='0680905b063dd89f77005aa4acb7582d92694a6e', pr_url=None, repo_url=RepoUrl('https://huggingface.co/datasets/babylm-seqlen/train_100M_1024', endpoint='https://huggingface.co', repo_type='dataset', repo_id='babylm-seqlen/train_100M_1024'), pr_revision=None, pr_num=None)"
      ]
     },
     "execution_count": 70,
     "metadata": {},
     "output_type": "execute_result"
    }
   ],
   "source": [
    "api.create_repo(\"babylm-seqlen/train_100M_1024\", private=True, exist_ok=True, token=HF_TOKEN, repo_type=\"dataset\")\n",
    "\n",
    "api.upload_file(\n",
    "    path_or_fileobj='data/processed/train_100M_1024.parquet',\n",
    "    repo_id='babylm-seqlen/train_100M_1024',\n",
    "    repo_type='dataset',\n",
    "    path_in_repo='train_100M_1024.parquet', \n",
    "    token=HF_TOKEN\n",
    ")"
   ]
  },
  {
   "cell_type": "markdown",
   "metadata": {},
   "source": [
    "### Seq Len - 2048 Dataset"
   ]
  },
  {
   "cell_type": "code",
   "execution_count": 80,
   "metadata": {},
   "outputs": [
    {
     "name": "stderr",
     "output_type": "stream",
     "text": [
      "Map (num_proc=8): 100%|██████████| 131035/131035 [02:03<00:00, 1059.14 examples/s]\n"
     ]
    }
   ],
   "source": [
    "tokenize_and_chunk_2048 = partial(tokenize_and_chunk, seq_len=2048)\n",
    "\n",
    "tokenized_dataset_2048 = raw_dataset.map(\n",
    "    tokenize_and_chunk_2048,\n",
    "    batched=True,\n",
    "    batch_size=500,\n",
    "    num_proc=8,\n",
    "    remove_columns=raw_dataset.column_names\n",
    ")\n",
    "tokenized_dataset_2048 = tokenized_dataset_2048.shuffle(seed=42)"
   ]
  },
  {
   "cell_type": "code",
   "execution_count": 81,
   "metadata": {},
   "outputs": [
    {
     "name": "stderr",
     "output_type": "stream",
     "text": [
      "Creating parquet from Arrow format: 100%|██████████| 80/80 [00:06<00:00, 11.63ba/s]\n"
     ]
    },
    {
     "data": {
      "text/plain": [
       "653721156"
      ]
     },
     "execution_count": 81,
     "metadata": {},
     "output_type": "execute_result"
    }
   ],
   "source": [
    "tokenized_dataset_2048.to_parquet('data/processed/train_100M_2048.parquet')"
   ]
  },
  {
   "cell_type": "code",
   "execution_count": 82,
   "metadata": {},
   "outputs": [
    {
     "name": "stderr",
     "output_type": "stream",
     "text": [
      "train_100M_2048.parquet: 100%|██████████| 256M/256M [00:08<00:00, 31.9MB/s] \n"
     ]
    },
    {
     "data": {
      "text/plain": [
       "CommitInfo(commit_url='https://huggingface.co/datasets/babylm-seqlen/train_100M_2048/commit/7fc8b25065991a3c8d4dd9e5e6fdb0aabee434e2', commit_message='Upload train_100M_2048.parquet with huggingface_hub', commit_description='', oid='7fc8b25065991a3c8d4dd9e5e6fdb0aabee434e2', pr_url=None, repo_url=RepoUrl('https://huggingface.co/datasets/babylm-seqlen/train_100M_2048', endpoint='https://huggingface.co', repo_type='dataset', repo_id='babylm-seqlen/train_100M_2048'), pr_revision=None, pr_num=None)"
      ]
     },
     "execution_count": 82,
     "metadata": {},
     "output_type": "execute_result"
    }
   ],
   "source": [
    "api.create_repo(\"babylm-seqlen/train_100M_2048\", private=True, exist_ok=True, token=HF_TOKEN, repo_type=\"dataset\")\n",
    "\n",
    "api.upload_file(\n",
    "    path_or_fileobj='data/processed/train_100M_2048.parquet',\n",
    "    repo_id='babylm-seqlen/train_100M_2048',\n",
    "    repo_type='dataset',\n",
    "    path_in_repo='train_100M_2048.parquet', \n",
    "    token=HF_TOKEN\n",
    ")"
   ]
  },
  {
   "cell_type": "markdown",
   "metadata": {},
   "source": [
    "### Seq Len - 4096 Dataset"
   ]
  },
  {
   "cell_type": "code",
   "execution_count": 71,
   "metadata": {},
   "outputs": [
    {
     "name": "stderr",
     "output_type": "stream",
     "text": [
      "Map (num_proc=8): 100%|██████████| 131035/131035 [02:01<00:00, 1074.45 examples/s]\n"
     ]
    }
   ],
   "source": [
    "tokenize_and_chunk_4096 = partial(tokenize_and_chunk, seq_len=4096)\n",
    "\n",
    "tokenized_dataset_4096 = raw_dataset.map(\n",
    "    tokenize_and_chunk_4096,\n",
    "    batched=True,\n",
    "    batch_size=500,\n",
    "    num_proc=8,\n",
    "    remove_columns=raw_dataset.column_names\n",
    ")\n",
    "tokenized_dataset_4096 = tokenized_dataset_4096.shuffle(seed=42)"
   ]
  },
  {
   "cell_type": "code",
   "execution_count": 72,
   "metadata": {},
   "outputs": [
    {
     "name": "stderr",
     "output_type": "stream",
     "text": [
      "Creating parquet from Arrow format: 100%|██████████| 40/40 [00:06<00:00,  6.51ba/s]\n"
     ]
    },
    {
     "data": {
      "text/plain": [
       "652471832"
      ]
     },
     "execution_count": 72,
     "metadata": {},
     "output_type": "execute_result"
    }
   ],
   "source": [
    "tokenized_dataset_4096.to_parquet('data/processed/train_100M_4096.parquet')"
   ]
  },
  {
   "cell_type": "code",
   "execution_count": 73,
   "metadata": {},
   "outputs": [
    {
     "name": "stderr",
     "output_type": "stream",
     "text": [
      "train_100M_4096.parquet: 100%|██████████| 252M/252M [00:09<00:00, 26.8MB/s] \n"
     ]
    },
    {
     "data": {
      "text/plain": [
       "CommitInfo(commit_url='https://huggingface.co/datasets/babylm-seqlen/train_100M_4096/commit/bb19e62af7b58d3f5a0714f08ca36ca8a6e7f5ef', commit_message='Upload train_100M_4096.parquet with huggingface_hub', commit_description='', oid='bb19e62af7b58d3f5a0714f08ca36ca8a6e7f5ef', pr_url=None, repo_url=RepoUrl('https://huggingface.co/datasets/babylm-seqlen/train_100M_4096', endpoint='https://huggingface.co', repo_type='dataset', repo_id='babylm-seqlen/train_100M_4096'), pr_revision=None, pr_num=None)"
      ]
     },
     "execution_count": 73,
     "metadata": {},
     "output_type": "execute_result"
    }
   ],
   "source": [
    "api.create_repo(\"babylm-seqlen/train_100M_4096\", private=True, exist_ok=True, token=HF_TOKEN, repo_type=\"dataset\")\n",
    "\n",
    "api.upload_file(\n",
    "    path_or_fileobj='data/processed/train_100M_4096.parquet',\n",
    "    repo_id='babylm-seqlen/train_100M_4096',\n",
    "    repo_type='dataset',\n",
    "    path_in_repo='train_100M_4096.parquet', \n",
    "    token=HF_TOKEN\n",
    ")"
   ]
  },
  {
   "cell_type": "markdown",
   "metadata": {},
   "source": [
    "### Seq Len - 8192 Dataset"
   ]
  },
  {
   "cell_type": "code",
   "execution_count": 77,
   "metadata": {},
   "outputs": [
    {
     "name": "stderr",
     "output_type": "stream",
     "text": [
      "Map (num_proc=8): 100%|██████████| 131035/131035 [02:05<00:00, 1046.75 examples/s]\n"
     ]
    }
   ],
   "source": [
    "tokenize_and_chunk_8192 = partial(tokenize_and_chunk, seq_len=8192)\n",
    "\n",
    "tokenized_dataset_8192 = raw_dataset.map(\n",
    "    tokenize_and_chunk_8192,\n",
    "    batched=True,\n",
    "    batch_size=500,\n",
    "    num_proc=8,\n",
    "    remove_columns=raw_dataset.column_names\n",
    ")\n",
    "tokenized_dataset_8192 = tokenized_dataset_8192.shuffle(seed=42)"
   ]
  },
  {
   "cell_type": "code",
   "execution_count": 78,
   "metadata": {},
   "outputs": [
    {
     "name": "stderr",
     "output_type": "stream",
     "text": [
      "Creating parquet from Arrow format: 100%|██████████| 20/20 [00:05<00:00,  3.70ba/s]\n"
     ]
    },
    {
     "data": {
      "text/plain": [
       "650327568"
      ]
     },
     "execution_count": 78,
     "metadata": {},
     "output_type": "execute_result"
    }
   ],
   "source": [
    "tokenized_dataset_8192.to_parquet('data/processed/train_100M_8192.parquet')"
   ]
  },
  {
   "cell_type": "code",
   "execution_count": 79,
   "metadata": {},
   "outputs": [
    {
     "name": "stderr",
     "output_type": "stream",
     "text": [
      "train_100M_8192.parquet: 100%|██████████| 249M/249M [00:09<00:00, 26.8MB/s] \n"
     ]
    },
    {
     "data": {
      "text/plain": [
       "CommitInfo(commit_url='https://huggingface.co/datasets/babylm-seqlen/train_100M_8192/commit/61dd4531f1bf3348c502f03ee5417e81c1eaf01b', commit_message='Upload train_100M_8192.parquet with huggingface_hub', commit_description='', oid='61dd4531f1bf3348c502f03ee5417e81c1eaf01b', pr_url=None, repo_url=RepoUrl('https://huggingface.co/datasets/babylm-seqlen/train_100M_8192', endpoint='https://huggingface.co', repo_type='dataset', repo_id='babylm-seqlen/train_100M_8192'), pr_revision=None, pr_num=None)"
      ]
     },
     "execution_count": 79,
     "metadata": {},
     "output_type": "execute_result"
    }
   ],
   "source": [
    "api.create_repo(\"babylm-seqlen/train_100M_8192\", private=True, exist_ok=True, token=HF_TOKEN, repo_type=\"dataset\")\n",
    "\n",
    "api.upload_file(\n",
    "    path_or_fileobj='data/processed/train_100M_8192.parquet',\n",
    "    repo_id='babylm-seqlen/train_100M_8192',\n",
    "    repo_type='dataset',\n",
    "    path_in_repo='train_100M_8192.parquet', \n",
    "    token=HF_TOKEN\n",
    ")"
   ]
  },
  {
   "cell_type": "markdown",
   "metadata": {},
   "source": [
    "### Seq Len - 16384 Dataset\n"
   ]
  },
  {
   "cell_type": "code",
   "execution_count": 74,
   "metadata": {},
   "outputs": [
    {
     "name": "stderr",
     "output_type": "stream",
     "text": [
      "Map (num_proc=8): 100%|██████████| 131035/131035 [02:03<00:00, 1060.08 examples/s]\n"
     ]
    }
   ],
   "source": [
    "tokenize_and_chunk_16384 = partial(tokenize_and_chunk, seq_len=16384)\n",
    "\n",
    "tokenized_dataset_16384 = raw_dataset.map(\n",
    "    tokenize_and_chunk_16384,\n",
    "    batched=True,\n",
    "    batch_size=500,\n",
    "    num_proc=8,\n",
    "    remove_columns=raw_dataset.column_names\n",
    ")\n",
    "tokenized_dataset_16384 = tokenized_dataset_16384.shuffle(seed=42)\n"
   ]
  },
  {
   "cell_type": "code",
   "execution_count": 75,
   "metadata": {},
   "outputs": [
    {
     "name": "stderr",
     "output_type": "stream",
     "text": [
      "Creating parquet from Arrow format: 100%|██████████| 10/10 [00:05<00:00,  1.81ba/s]\n"
     ]
    },
    {
     "data": {
      "text/plain": [
       "646421020"
      ]
     },
     "execution_count": 75,
     "metadata": {},
     "output_type": "execute_result"
    }
   ],
   "source": [
    "tokenized_dataset_16384.to_parquet('data/processed/train_100M_16384.parquet')"
   ]
  },
  {
   "cell_type": "code",
   "execution_count": 76,
   "metadata": {},
   "outputs": [
    {
     "name": "stderr",
     "output_type": "stream",
     "text": [
      "train_100M_16384.parquet: 100%|██████████| 244M/244M [00:09<00:00, 26.0MB/s] \n"
     ]
    },
    {
     "data": {
      "text/plain": [
       "CommitInfo(commit_url='https://huggingface.co/datasets/babylm-seqlen/train_100M_16384/commit/76c26ad39d01bda6046911b7e421df1420cebb2a', commit_message='Upload train_100M_16384.parquet with huggingface_hub', commit_description='', oid='76c26ad39d01bda6046911b7e421df1420cebb2a', pr_url=None, repo_url=RepoUrl('https://huggingface.co/datasets/babylm-seqlen/train_100M_16384', endpoint='https://huggingface.co', repo_type='dataset', repo_id='babylm-seqlen/train_100M_16384'), pr_revision=None, pr_num=None)"
      ]
     },
     "execution_count": 76,
     "metadata": {},
     "output_type": "execute_result"
    }
   ],
   "source": [
    "api.create_repo(\"babylm-seqlen/train_100M_16384\", private=True, exist_ok=True, token=HF_TOKEN, repo_type=\"dataset\")\n",
    "\n",
    "api.upload_file(\n",
    "    path_or_fileobj='data/processed/train_100M_16384.parquet',\n",
    "    repo_id='babylm-seqlen/train_100M_16384',\n",
    "    repo_type='dataset',\n",
    "    path_in_repo='train_100M_16384.parquet', \n",
    "    token=HF_TOKEN\n",
    ")"
   ]
  },
  {
   "cell_type": "code",
   "execution_count": null,
   "metadata": {},
   "outputs": [],
   "source": []
  }
 ],
 "metadata": {
  "kernelspec": {
   "display_name": "Python 3",
   "language": "python",
   "name": "python3"
  },
  "language_info": {
   "codemirror_mode": {
    "name": "ipython",
    "version": 3
   },
   "file_extension": ".py",
   "mimetype": "text/x-python",
   "name": "python",
   "nbconvert_exporter": "python",
   "pygments_lexer": "ipython3",
   "version": "3.10.13"
  }
 },
 "nbformat": 4,
 "nbformat_minor": 2
}
