{
 "cells": [
  {
   "cell_type": "markdown",
   "metadata": {},
   "source": [
    "### Training New Tokenizer "
   ]
  },
  {
   "cell_type": "code",
   "execution_count": 1,
   "metadata": {},
   "outputs": [
    {
     "name": "stderr",
     "output_type": "stream",
     "text": [
      "/home/rd654/babylm-seqlen/.venv/lib/python3.10/site-packages/tqdm/auto.py:21: TqdmWarning: IProgress not found. Please update jupyter and ipywidgets. See https://ipywidgets.readthedocs.io/en/stable/user_install.html\n",
      "  from .autonotebook import tqdm as notebook_tqdm\n",
      "None of PyTorch, TensorFlow >= 2.0, or Flax have been found. Models won't be available and only tokenizers, configuration and file/data utilities can be used.\n"
     ]
    }
   ],
   "source": [
    "from transformers import AutoTokenizer\n",
    "\n",
    "tokenizer_path = 'facebook/opt-350m'\n",
    "\n",
    "tokenizer = AutoTokenizer.from_pretrained(tokenizer_path)"
   ]
  },
  {
   "cell_type": "markdown",
   "metadata": {},
   "source": [
    "Creating a generator over the 100M word dataset"
   ]
  },
  {
   "cell_type": "code",
   "execution_count": 2,
   "metadata": {},
   "outputs": [],
   "source": [
    "# load in dataset \n",
    "import os \n",
    "\n",
    "data_root_path = 'data/raw/train_100M'\n",
    "\n",
    "dataset = []\n",
    "\n",
    "def raw_data_iterator(data_root_path):\n",
    "    for file in os.listdir(data_root_path):\n",
    "        print(\"Processing file: \", file)\n",
    "        with open(os.path.join(data_root_path, file), 'r') as f:\n",
    "            for line in f:\n",
    "                yield line\n",
    "\n",
    "data_iterator = raw_data_iterator(data_root_path)"
   ]
  },
  {
   "cell_type": "markdown",
   "metadata": {},
   "source": [
    "Training new tokenizer with 16k vocabulary size -- keeping all of the other settings the same "
   ]
  },
  {
   "cell_type": "code",
   "execution_count": 3,
   "metadata": {},
   "outputs": [
    {
     "name": "stdout",
     "output_type": "stream",
     "text": [
      "Processing file:  simple_wiki.train\n",
      "Processing file:  bnc_spoken.train\n",
      "Processing file:  childes.train\n",
      "Processing file:  open_subtitles.train\n",
      "Processing file:  switchboard.train\n",
      "Processing file:  gutenberg.train\n",
      "\n",
      "\n",
      "\n"
     ]
    }
   ],
   "source": [
    "new_tokenizer = tokenizer.train_new_from_iterator(data_iterator, vocab_size=16000)"
   ]
  },
  {
   "cell_type": "code",
   "execution_count": 4,
   "metadata": {},
   "outputs": [
    {
     "data": {
      "text/plain": [
       "True"
      ]
     },
     "execution_count": 4,
     "metadata": {},
     "output_type": "execute_result"
    }
   ],
   "source": [
    "# load in HF_TOKEN from .env file \n",
    "from dotenv import load_dotenv\n",
    "\n",
    "load_dotenv()"
   ]
  },
  {
   "cell_type": "code",
   "execution_count": 5,
   "metadata": {},
   "outputs": [
    {
     "data": {
      "text/plain": [
       "CommitInfo(commit_url='https://huggingface.co/babylm-seqlen/tokenizer/commit/bd77418fe812e0de386f0b8117d5b881fa5499b5', commit_message='Upload tokenizer', commit_description='', oid='bd77418fe812e0de386f0b8117d5b881fa5499b5', pr_url=None, repo_url=RepoUrl('https://huggingface.co/babylm-seqlen/tokenizer', endpoint='https://huggingface.co', repo_type='model', repo_id='babylm-seqlen/tokenizer'), pr_revision=None, pr_num=None)"
      ]
     },
     "execution_count": 5,
     "metadata": {},
     "output_type": "execute_result"
    }
   ],
   "source": [
    "# push tokenizer to hub \n",
    "new_tokenizer.push_to_hub(\"babylm-seqlen/tokenizer\")"
   ]
  }
 ],
 "metadata": {
  "kernelspec": {
   "display_name": "Python 3",
   "language": "python",
   "name": "python3"
  },
  "language_info": {
   "codemirror_mode": {
    "name": "ipython",
    "version": 3
   },
   "file_extension": ".py",
   "mimetype": "text/x-python",
   "name": "python",
   "nbconvert_exporter": "python",
   "pygments_lexer": "ipython3",
   "version": "3.10.13"
  }
 },
 "nbformat": 4,
 "nbformat_minor": 2
}
